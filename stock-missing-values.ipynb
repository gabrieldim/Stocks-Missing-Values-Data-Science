{
  "nbformat": 4,
  "nbformat_minor": 0,
  "metadata": {
    "colab": {
      "name": "Gabriel-Dimitrievski-181225-lab3.ipynb",
      "provenance": [],
      "collapsed_sections": []
    },
    "kernelspec": {
      "name": "python3",
      "display_name": "Python 3"
    }
  },
  "cells": [
    {
      "cell_type": "markdown",
      "metadata": {
        "id": "KFMjGridvepn"
      },
      "source": [
        "<ul><font size = 5 color='Orange'>\n",
        "Learning Goals</font>\n",
        "<font color = 'Orange'><li>Obtaining the Dataset</li>\n",
        "<li>Handling missing values</li>\n",
        "<li>Encoding the categorical data</li>\n",
        "\n",
        "</ul>\n"
      ]
    },
    {
      "cell_type": "markdown",
      "metadata": {
        "id": "STS4nUOhw07R"
      },
      "source": [
        "The Dataset for this exercise depends on your index number i.e number_of_data_set = index % 10:\n",
        "\n",
        "\n",
        "0.  https://www.kaggle.com/ruchi798/drug-overdose-deaths\n",
        "1.  https://www.kaggle.com/rishidamarla/employee-data-from-the-city-of-chicago\n",
        "2.  https://www.kaggle.com/vikasukani/loan-eligible-dataset\n",
        "3.  https://www.kaggle.com/tamilsel/healthcare-providers-data\n",
        "4.  https://www.kaggle.com/chirag9073/europe-economic-crisis\n",
        "5.  https://www.kaggle.com/bryanb/cac40-stocks-dataset\n",
        "6.  https://www.kaggle.com/christofel04/cardiovascular-study-dataset-predict-heart-disea\n",
        "7.  https://www.kaggle.com/tsaustin/us-historical-stock-prices-with-earnings-data\n",
        "8.  https://www.kaggle.com/kimjihoo/coronavirusdataset (Dataset: PatientInfo.csv)\n",
        "9.  https://www.kaggle.com/mczielinski/bitcoin-historical-data"
      ]
    },
    {
      "cell_type": "markdown",
      "metadata": {
        "id": "jaojhkPLyq8I"
      },
      "source": [
        "# <font color = 'Orange'> Read your Dataset (.csv)</font>"
      ]
    },
    {
      "cell_type": "code",
      "metadata": {
        "id": "VNuwigsVwtaP",
        "colab": {
          "base_uri": "https://localhost:8080/"
        },
        "outputId": "d158af2f-80c5-4968-d93d-456a4911b338"
      },
      "source": [
        "#add your code\n",
        "from collections import defaultdict\n",
        "import pandas as pd\n",
        "Stocks=pd.read_csv('/content/CAC40_stocks_2010_2021.csv')\n",
        "\n",
        "from google.colab import drive\n",
        "drive.mount('/content/drive')"
      ],
      "execution_count": 8,
      "outputs": [
        {
          "output_type": "stream",
          "name": "stdout",
          "text": [
            "Drive already mounted at /content/drive; to attempt to forcibly remount, call drive.mount(\"/content/drive\", force_remount=True).\n"
          ]
        }
      ]
    },
    {
      "cell_type": "code",
      "metadata": {
        "id": "pB_6nC7UdBaT"
      },
      "source": [
        ""
      ],
      "execution_count": null,
      "outputs": []
    },
    {
      "cell_type": "markdown",
      "metadata": {
        "id": "oqwzn3eGz1rL"
      },
      "source": [
        "# <font color = 'Orange'> Target column/columns </font>\n",
        "\n",
        "Write some info about the target value/values\n",
        "\n"
      ]
    },
    {
      "cell_type": "code",
      "metadata": {
        "colab": {
          "base_uri": "https://localhost:8080/"
        },
        "id": "LXs7BxpseUFJ",
        "outputId": "76588828-57a1-4396-ba07-82e071f3445b"
      },
      "source": [
        "print('Stocks data shape: ', Stocks.shape)"
      ],
      "execution_count": 9,
      "outputs": [
        {
          "output_type": "stream",
          "name": "stdout",
          "text": [
            "Stocks data shape:  (81735, 8)\n"
          ]
        }
      ]
    },
    {
      "cell_type": "markdown",
      "metadata": {
        "id": "S6YiiLt00Egt"
      },
      "source": [
        "*write here ..*"
      ]
    },
    {
      "cell_type": "markdown",
      "metadata": {
        "id": "mqmCV0mB0JEv"
      },
      "source": [
        "Visualize the target column"
      ]
    },
    {
      "cell_type": "code",
      "metadata": {
        "id": "gChPBA780ApR",
        "colab": {
          "base_uri": "https://localhost:8080/",
          "height": 406
        },
        "outputId": "f5b8aec5-ea6e-4f8d-8e45-21570860c27f"
      },
      "source": [
        "CompanyName = Stocks['CompanyName'].value_counts()\n",
        "CompanyName.plot.bar()"
      ],
      "execution_count": 13,
      "outputs": [
        {
          "output_type": "execute_result",
          "data": {
            "text/plain": [
              "<matplotlib.axes._subplots.AxesSubplot at 0x7f200aef8890>"
            ]
          },
          "metadata": {},
          "execution_count": 13
        },
        {
          "output_type": "display_data",
          "data": {
            "image/png": "[encoded data removed]",
            "text/plain": [
              "<Figure size 432x288 with 1 Axes>"
            ]
          },
          "metadata": {
            "needs_background": "light"
          }
        }
      ]
    },
    {
      "cell_type": "code",
      "metadata": {
        "colab": {
          "base_uri": "https://localhost:8080/",
          "height": 406
        },
        "id": "fx5TZVw8fI17",
        "outputId": "fdab4ac1-7cdd-4696-b69e-d91115d81815"
      },
      "source": [
        "import matplotlib.pyplot as plt\n",
        "plt.xticks(rotation = 90)\n",
        "Stocks['CompanyName'].hist()"
      ],
      "execution_count": 14,
      "outputs": [
        {
          "output_type": "execute_result",
          "data": {
            "text/plain": [
              "<matplotlib.axes._subplots.AxesSubplot at 0x7f200a9077d0>"
            ]
          },
          "metadata": {},
          "execution_count": 14
        },
        {
          "output_type": "display_data",
          "data": {
            "image/png": "[encoded data removed]",
            "text/plain": [
              "<Figure size 432x288 with 1 Axes>"
            ]
          },
          "metadata": {
            "needs_background": "light"
          }
        }
      ]
    },
    {
      "cell_type": "markdown",
      "metadata": {
        "id": "WpZdCckk0Z8W"
      },
      "source": [
        "# <font color = 'Orange'>Detect the Missing values</font>"
      ]
    },
    {
      "cell_type": "markdown",
      "metadata": {
        "id": "Gw4SkFaB1QBr"
      },
      "source": [
        "Count the percentage of missing values in every column of the Dataset. "
      ]
    },
    {
      "cell_type": "code",
      "metadata": {
        "colab": {
          "base_uri": "https://localhost:8080/",
          "height": 300
        },
        "id": "rPeLHnydfRrA",
        "outputId": "39d92e91-1b40-4fae-a64b-e0b52e870ab9"
      },
      "source": [
        "missing_values_High = Stocks.isnull().sum()\n",
        "percentage_High = 100 * Stocks.isnull().sum() / len(Stocks)\n",
        "missing_values_table_High = pd.concat([missing_values_High, percentage_High], axis=1)\n",
        "missing_values_table_High.columns = ['Missing values counter:', ' Percentage of missing values']\n",
        "missing_values_table_High"
      ],
      "execution_count": 17,
      "outputs": [
        {
          "output_type": "execute_result",
          "data": {
            "text/html": [
              "<div>\n",
              "<style scoped>\n",
              "    .dataframe tbody tr th:only-of-type {\n",
              "        vertical-align: middle;\n",
              "    }\n",
              "\n",
              "    .dataframe tbody tr th {\n",
              "        vertical-align: top;\n",
              "    }\n",
              "\n",
              "    .dataframe thead th {\n",
              "        text-align: right;\n",
              "    }\n",
              "</style>\n",
              "<table border=\"1\" class=\"dataframe\">\n",
              "  <thead>\n",
              "    <tr style=\"text-align: right;\">\n",
              "      <th></th>\n",
              "      <th>Missing values counter:</th>\n",
              "      <th>Percentage of missing values</th>\n",
              "    </tr>\n",
              "  </thead>\n",
              "  <tbody>\n",
              "    <tr>\n",
              "      <th>CompanyName</th>\n",
              "      <td>0</td>\n",
              "      <td>0.0</td>\n",
              "    </tr>\n",
              "    <tr>\n",
              "      <th>StockName</th>\n",
              "      <td>0</td>\n",
              "      <td>0.0</td>\n",
              "    </tr>\n",
              "    <tr>\n",
              "      <th>High</th>\n",
              "      <td>0</td>\n",
              "      <td>0.0</td>\n",
              "    </tr>\n",
              "    <tr>\n",
              "      <th>Low</th>\n",
              "      <td>0</td>\n",
              "      <td>0.0</td>\n",
              "    </tr>\n",
              "    <tr>\n",
              "      <th>Open</th>\n",
              "      <td>0</td>\n",
              "      <td>0.0</td>\n",
              "    </tr>\n",
              "    <tr>\n",
              "      <th>Close</th>\n",
              "      <td>0</td>\n",
              "      <td>0.0</td>\n",
              "    </tr>\n",
              "    <tr>\n",
              "      <th>Volume</th>\n",
              "      <td>0</td>\n",
              "      <td>0.0</td>\n",
              "    </tr>\n",
              "    <tr>\n",
              "      <th>Date</th>\n",
              "      <td>0</td>\n",
              "      <td>0.0</td>\n",
              "    </tr>\n",
              "  </tbody>\n",
              "</table>\n",
              "</div>"
            ],
            "text/plain": [
              "             Missing values counter:   Percentage of missing values\n",
              "CompanyName                        0                            0.0\n",
              "StockName                          0                            0.0\n",
              "High                               0                            0.0\n",
              "Low                                0                            0.0\n",
              "Open                               0                            0.0\n",
              "Close                              0                            0.0\n",
              "Volume                             0                            0.0\n",
              "Date                               0                            0.0"
            ]
          },
          "metadata": {},
          "execution_count": 17
        }
      ]
    },
    {
      "cell_type": "markdown",
      "metadata": {
        "id": "SS5AuHms1bnh"
      },
      "source": [
        "Visualize the missing values using Missingno library"
      ]
    },
    {
      "cell_type": "code",
      "metadata": {
        "id": "ehISYUAY1qwz",
        "colab": {
          "base_uri": "https://localhost:8080/",
          "height": 710
        },
        "outputId": "9c2e9a99-34e5-4ac0-f7cc-425c3c5c7d6d"
      },
      "source": [
        "import missingno as msno\n",
        "msno.bar(Stocks)"
      ],
      "execution_count": 18,
      "outputs": [
        {
          "output_type": "execute_result",
          "data": {
            "text/plain": [
              "<matplotlib.axes._subplots.AxesSubplot at 0x7f1ffabbb3d0>"
            ]
          },
          "metadata": {},
          "execution_count": 18
        },
        {
          "output_type": "display_data",
          "data": {
            "image/png": "[encoded data removed]",
            "text/plain": [
              "<Figure size 1800x720 with 3 Axes>"
            ]
          },
          "metadata": {
            "needs_background": "light"
          }
        }
      ]
    },
    {
      "cell_type": "code",
      "metadata": {
        "colab": {
          "base_uri": "https://localhost:8080/",
          "height": 674
        },
        "id": "MRJmP24nf1_B",
        "outputId": "73f69185-f5c6-417d-f143-1cf92f067a39"
      },
      "source": [
        "msno.matrix(Stocks)"
      ],
      "execution_count": 19,
      "outputs": [
        {
          "output_type": "execute_result",
          "data": {
            "text/plain": [
              "<matplotlib.axes._subplots.AxesSubplot at 0x7f1ff221ae50>"
            ]
          },
          "metadata": {},
          "execution_count": 19
        },
        {
          "output_type": "display_data",
          "data": {
            "image/png": "[encoded data removed]",
            "text/plain": [
              "<Figure size 1800x720 with 2 Axes>"
            ]
          },
          "metadata": {
            "needs_background": "light"
          }
        }
      ]
    },
    {
      "cell_type": "markdown",
      "metadata": {
        "id": "bsZjZCi92J8g"
      },
      "source": [
        "# <font color = 'Orange'> Find reasons for the missing values</font>\n",
        "\n",
        "\n",
        "With the help of visualization matrix, heatmap, dendrogram, show the dependence between the columns with missing values"
      ]
    },
    {
      "cell_type": "code",
      "metadata": {
        "id": "JE-uvOiL32-v",
        "colab": {
          "base_uri": "https://localhost:8080/",
          "height": 674
        },
        "outputId": "d060ee4d-d212-40e3-f5ac-98d842105c6f"
      },
      "source": [
        "msno.matrix(Stocks.sort_values('Volume'))"
      ],
      "execution_count": 22,
      "outputs": [
        {
          "output_type": "execute_result",
          "data": {
            "text/plain": [
              "<matplotlib.axes._subplots.AxesSubplot at 0x7f1ff1b64c10>"
            ]
          },
          "metadata": {},
          "execution_count": 22
        },
        {
          "output_type": "display_data",
          "data": {
            "image/png": "[encoded data removed]",
            "text/plain": [
              "<Figure size 1800x720 with 2 Axes>"
            ]
          },
          "metadata": {
            "needs_background": "light"
          }
        }
      ]
    },
    {
      "cell_type": "markdown",
      "metadata": {
        "id": "pXsSC8Ho1y-N"
      },
      "source": [
        "Write the reasons for the missing values"
      ]
    },
    {
      "cell_type": "markdown",
      "metadata": {
        "id": "4uBL76jp3-GL"
      },
      "source": [
        "*write here ..*"
      ]
    },
    {
      "cell_type": "markdown",
      "metadata": {
        "id": "q8TiFswE5TsD"
      },
      "source": [
        "# <font color = 'Orange'>Handle the missing values</font>"
      ]
    },
    {
      "cell_type": "markdown",
      "metadata": {
        "id": "CbZn3z4K4B2d"
      },
      "source": [
        "After you observed the data, the main goal is to know how the columns depend one to another. Therefore, the next step is to select one of the techniques of Machine Learning: Linear Regression, KNN Classification or Logistic Regression that you will use for handling the missing values. You don't need to use the whole dataset for detecting the missing values in one column, you can use a subset of columns that are making the prediction of the target missing value. \n"
      ]
    },
    {
      "cell_type": "code",
      "metadata": {
        "id": "-gbzez457dgX",
        "colab": {
          "base_uri": "https://localhost:8080/"
        },
        "outputId": "2e9c1b5e-c267-4e1a-be97-970def2e9ff0"
      },
      "source": [
        "Stocks = Stocks.copy()\n",
        "Stocks.dropna(subset=['Volume'],how='any',inplace=True)\n",
        "Stocks['Volume'].isnull().sum()"
      ],
      "execution_count": 24,
      "outputs": [
        {
          "output_type": "execute_result",
          "data": {
            "text/plain": [
              "0"
            ]
          },
          "metadata": {},
          "execution_count": 24
        }
      ]
    },
    {
      "cell_type": "code",
      "metadata": {
        "colab": {
          "base_uri": "https://localhost:8080/",
          "height": 710
        },
        "id": "WCwvWCBOgS1J",
        "outputId": "1dc7303c-83cc-4716-9c3e-b0bcfed0f801"
      },
      "source": [
        "msno.bar(Stocks)"
      ],
      "execution_count": 25,
      "outputs": [
        {
          "output_type": "execute_result",
          "data": {
            "text/plain": [
              "<matplotlib.axes._subplots.AxesSubplot at 0x7f1ff1fd9790>"
            ]
          },
          "metadata": {},
          "execution_count": 25
        },
        {
          "output_type": "display_data",
          "data": {
            "image/png": "[encoded data removed]",
            "text/plain": [
              "<Figure size 1800x720 with 3 Axes>"
            ]
          },
          "metadata": {
            "needs_background": "light"
          }
        }
      ]
    },
    {
      "cell_type": "markdown",
      "metadata": {
        "id": "MqyACVrw7lr-"
      },
      "source": [
        "# <font color = 'Orange'> Encode non numerical values </font>"
      ]
    },
    {
      "cell_type": "code",
      "metadata": {
        "id": "Ez34HYgF7iB2",
        "colab": {
          "base_uri": "https://localhost:8080/",
          "height": 206
        },
        "outputId": "c1b7f261-1c3e-4a51-e69a-14fe8bcd3ba9"
      },
      "source": [
        "Stocks.head()"
      ],
      "execution_count": 26,
      "outputs": [
        {
          "output_type": "execute_result",
          "data": {
            "text/html": [
              "<div>\n",
              "<style scoped>\n",
              "    .dataframe tbody tr th:only-of-type {\n",
              "        vertical-align: middle;\n",
              "    }\n",
              "\n",
              "    .dataframe tbody tr th {\n",
              "        vertical-align: top;\n",
              "    }\n",
              "\n",
              "    .dataframe thead th {\n",
              "        text-align: right;\n",
              "    }\n",
              "</style>\n",
              "<table border=\"1\" class=\"dataframe\">\n",
              "  <thead>\n",
              "    <tr style=\"text-align: right;\">\n",
              "      <th></th>\n",
              "      <th>CompanyName</th>\n",
              "      <th>StockName</th>\n",
              "      <th>High</th>\n",
              "      <th>Low</th>\n",
              "      <th>Open</th>\n",
              "      <th>Close</th>\n",
              "      <th>Volume</th>\n",
              "      <th>Date</th>\n",
              "    </tr>\n",
              "  </thead>\n",
              "  <tbody>\n",
              "    <tr>\n",
              "      <th>0</th>\n",
              "      <td>TechnipFMC</td>\n",
              "      <td>FTI</td>\n",
              "      <td>29.855000</td>\n",
              "      <td>29.075001</td>\n",
              "      <td>29.075001</td>\n",
              "      <td>29.615000</td>\n",
              "      <td>1908400.0</td>\n",
              "      <td>2010-01-04</td>\n",
              "    </tr>\n",
              "    <tr>\n",
              "      <th>1</th>\n",
              "      <td>TechnipFMC</td>\n",
              "      <td>FTI</td>\n",
              "      <td>30.270000</td>\n",
              "      <td>29.555000</td>\n",
              "      <td>29.610001</td>\n",
              "      <td>30.125000</td>\n",
              "      <td>2206600.0</td>\n",
              "      <td>2010-01-05</td>\n",
              "    </tr>\n",
              "    <tr>\n",
              "      <th>2</th>\n",
              "      <td>TechnipFMC</td>\n",
              "      <td>FTI</td>\n",
              "      <td>30.305000</td>\n",
              "      <td>29.434999</td>\n",
              "      <td>30.040001</td>\n",
              "      <td>30.264999</td>\n",
              "      <td>2724200.0</td>\n",
              "      <td>2010-01-06</td>\n",
              "    </tr>\n",
              "    <tr>\n",
              "      <th>3</th>\n",
              "      <td>TechnipFMC</td>\n",
              "      <td>FTI</td>\n",
              "      <td>30.219999</td>\n",
              "      <td>29.715000</td>\n",
              "      <td>30.155001</td>\n",
              "      <td>29.915001</td>\n",
              "      <td>2581000.0</td>\n",
              "      <td>2010-01-07</td>\n",
              "    </tr>\n",
              "    <tr>\n",
              "      <th>4</th>\n",
              "      <td>TechnipFMC</td>\n",
              "      <td>FTI</td>\n",
              "      <td>30.500000</td>\n",
              "      <td>29.625000</td>\n",
              "      <td>29.830000</td>\n",
              "      <td>30.450001</td>\n",
              "      <td>3280400.0</td>\n",
              "      <td>2010-01-08</td>\n",
              "    </tr>\n",
              "  </tbody>\n",
              "</table>\n",
              "</div>"
            ],
            "text/plain": [
              "  CompanyName StockName       High  ...      Close     Volume        Date\n",
              "0  TechnipFMC       FTI  29.855000  ...  29.615000  1908400.0  2010-01-04\n",
              "1  TechnipFMC       FTI  30.270000  ...  30.125000  2206600.0  2010-01-05\n",
              "2  TechnipFMC       FTI  30.305000  ...  30.264999  2724200.0  2010-01-06\n",
              "3  TechnipFMC       FTI  30.219999  ...  29.915001  2581000.0  2010-01-07\n",
              "4  TechnipFMC       FTI  30.500000  ...  30.450001  3280400.0  2010-01-08\n",
              "\n",
              "[5 rows x 8 columns]"
            ]
          },
          "metadata": {},
          "execution_count": 26
        }
      ]
    },
    {
      "cell_type": "code",
      "metadata": {
        "colab": {
          "base_uri": "https://localhost:8080/"
        },
        "id": "XO7aYaozgZnJ",
        "outputId": "9769fc20-12d6-4ad4-ade7-5609bb01d99b"
      },
      "source": [
        "Patient['CompanyName'].value_counts()"
      ],
      "execution_count": 28,
      "outputs": [
        {
          "output_type": "execute_result",
          "data": {
            "text/plain": [
              "Unibail-Rodamco-Westfield    2833\n",
              "Engie                        2832\n",
              "Thales Group                 2832\n",
              "Renault                      2832\n",
              "Publicis                     2832\n",
              "Kering                       2832\n",
              "ArcelorMittal                2789\n",
              "Schneider Electric           2789\n",
              "AXA                          2789\n",
              "Atos                         2789\n",
              "Sanofi                       2789\n",
              "Groupe PSA                   2789\n",
              "Vinci                        2789\n",
              "STMicroelectronics           2789\n",
              "TechnipFMC                   2789\n",
              "Airbus                       2789\n",
              "Orange                       2789\n",
              "Essilor                      2789\n",
              "Michelin                     2353\n",
              "Legrand                      2346\n",
              "Carrefour                    2234\n",
              "Saint-Gobain                 2053\n",
              "Société Générale             2053\n",
              "BNP Paribas                  2053\n",
              "Danone                       2053\n",
              "Dassault Systèmes            2034\n",
              "Total                        2033\n",
              "Bouygues                     2031\n",
              "Pernod Ricard                1902\n",
              "LVMH                         1711\n",
              "Hermès                       1591\n",
              "Accor                        1315\n",
              "L’Oréal                      1152\n",
              "Sodexo                        655\n",
              "Safran                        610\n",
              "Crédit Agricole               563\n",
              "Veolia                        335\n",
              "Vivendi                       154\n",
              "Air Liquide                    36\n",
              "Capgemini                       7\n",
              "Name: CompanyName, dtype: int64"
            ]
          },
          "metadata": {},
          "execution_count": 28
        }
      ]
    },
    {
      "cell_type": "code",
      "metadata": {
        "colab": {
          "base_uri": "https://localhost:8080/"
        },
        "id": "Evp_T34fgkah",
        "outputId": "565e153f-7859-4b4e-eb2e-ab8f97d341f8"
      },
      "source": [
        "Stocks['StockName']"
      ],
      "execution_count": 31,
      "outputs": [
        {
          "output_type": "execute_result",
          "data": {
            "text/plain": [
              "0        FTI\n",
              "1        FTI\n",
              "2        FTI\n",
              "3        FTI\n",
              "4        FTI\n",
              "        ... \n",
              "81730     MC\n",
              "81731     MC\n",
              "81732     MC\n",
              "81733     MC\n",
              "81734     MC\n",
              "Name: StockName, Length: 81735, dtype: object"
            ]
          },
          "metadata": {},
          "execution_count": 31
        }
      ]
    },
    {
      "cell_type": "code",
      "metadata": {
        "colab": {
          "base_uri": "https://localhost:8080/",
          "height": 206
        },
        "id": "C6Z0t7jvg0jq",
        "outputId": "249b0afa-68b9-4ae9-d533-8d41a1ecb3e0"
      },
      "source": [
        "Stocks.head()"
      ],
      "execution_count": 32,
      "outputs": [
        {
          "output_type": "execute_result",
          "data": {
            "text/html": [
              "<div>\n",
              "<style scoped>\n",
              "    .dataframe tbody tr th:only-of-type {\n",
              "        vertical-align: middle;\n",
              "    }\n",
              "\n",
              "    .dataframe tbody tr th {\n",
              "        vertical-align: top;\n",
              "    }\n",
              "\n",
              "    .dataframe thead th {\n",
              "        text-align: right;\n",
              "    }\n",
              "</style>\n",
              "<table border=\"1\" class=\"dataframe\">\n",
              "  <thead>\n",
              "    <tr style=\"text-align: right;\">\n",
              "      <th></th>\n",
              "      <th>CompanyName</th>\n",
              "      <th>StockName</th>\n",
              "      <th>High</th>\n",
              "      <th>Low</th>\n",
              "      <th>Open</th>\n",
              "      <th>Close</th>\n",
              "      <th>Volume</th>\n",
              "      <th>Date</th>\n",
              "    </tr>\n",
              "  </thead>\n",
              "  <tbody>\n",
              "    <tr>\n",
              "      <th>0</th>\n",
              "      <td>TechnipFMC</td>\n",
              "      <td>FTI</td>\n",
              "      <td>29.855000</td>\n",
              "      <td>29.075001</td>\n",
              "      <td>29.075001</td>\n",
              "      <td>29.615000</td>\n",
              "      <td>1908400.0</td>\n",
              "      <td>2010-01-04</td>\n",
              "    </tr>\n",
              "    <tr>\n",
              "      <th>1</th>\n",
              "      <td>TechnipFMC</td>\n",
              "      <td>FTI</td>\n",
              "      <td>30.270000</td>\n",
              "      <td>29.555000</td>\n",
              "      <td>29.610001</td>\n",
              "      <td>30.125000</td>\n",
              "      <td>2206600.0</td>\n",
              "      <td>2010-01-05</td>\n",
              "    </tr>\n",
              "    <tr>\n",
              "      <th>2</th>\n",
              "      <td>TechnipFMC</td>\n",
              "      <td>FTI</td>\n",
              "      <td>30.305000</td>\n",
              "      <td>29.434999</td>\n",
              "      <td>30.040001</td>\n",
              "      <td>30.264999</td>\n",
              "      <td>2724200.0</td>\n",
              "      <td>2010-01-06</td>\n",
              "    </tr>\n",
              "    <tr>\n",
              "      <th>3</th>\n",
              "      <td>TechnipFMC</td>\n",
              "      <td>FTI</td>\n",
              "      <td>30.219999</td>\n",
              "      <td>29.715000</td>\n",
              "      <td>30.155001</td>\n",
              "      <td>29.915001</td>\n",
              "      <td>2581000.0</td>\n",
              "      <td>2010-01-07</td>\n",
              "    </tr>\n",
              "    <tr>\n",
              "      <th>4</th>\n",
              "      <td>TechnipFMC</td>\n",
              "      <td>FTI</td>\n",
              "      <td>30.500000</td>\n",
              "      <td>29.625000</td>\n",
              "      <td>29.830000</td>\n",
              "      <td>30.450001</td>\n",
              "      <td>3280400.0</td>\n",
              "      <td>2010-01-08</td>\n",
              "    </tr>\n",
              "  </tbody>\n",
              "</table>\n",
              "</div>"
            ],
            "text/plain": [
              "  CompanyName StockName       High  ...      Close     Volume        Date\n",
              "0  TechnipFMC       FTI  29.855000  ...  29.615000  1908400.0  2010-01-04\n",
              "1  TechnipFMC       FTI  30.270000  ...  30.125000  2206600.0  2010-01-05\n",
              "2  TechnipFMC       FTI  30.305000  ...  30.264999  2724200.0  2010-01-06\n",
              "3  TechnipFMC       FTI  30.219999  ...  29.915001  2581000.0  2010-01-07\n",
              "4  TechnipFMC       FTI  30.500000  ...  30.450001  3280400.0  2010-01-08\n",
              "\n",
              "[5 rows x 8 columns]"
            ]
          },
          "metadata": {},
          "execution_count": 32
        }
      ]
    },
    {
      "cell_type": "code",
      "metadata": {
        "colab": {
          "base_uri": "https://localhost:8080/",
          "height": 423
        },
        "id": "oeF4911Hg2r7",
        "outputId": "bacf39d8-8294-4d0a-ab90-de748d8801b4"
      },
      "source": [
        "Stocks"
      ],
      "execution_count": 33,
      "outputs": [
        {
          "output_type": "execute_result",
          "data": {
            "text/html": [
              "<div>\n",
              "<style scoped>\n",
              "    .dataframe tbody tr th:only-of-type {\n",
              "        vertical-align: middle;\n",
              "    }\n",
              "\n",
              "    .dataframe tbody tr th {\n",
              "        vertical-align: top;\n",
              "    }\n",
              "\n",
              "    .dataframe thead th {\n",
              "        text-align: right;\n",
              "    }\n",
              "</style>\n",
              "<table border=\"1\" class=\"dataframe\">\n",
              "  <thead>\n",
              "    <tr style=\"text-align: right;\">\n",
              "      <th></th>\n",
              "      <th>CompanyName</th>\n",
              "      <th>StockName</th>\n",
              "      <th>High</th>\n",
              "      <th>Low</th>\n",
              "      <th>Open</th>\n",
              "      <th>Close</th>\n",
              "      <th>Volume</th>\n",
              "      <th>Date</th>\n",
              "    </tr>\n",
              "  </thead>\n",
              "  <tbody>\n",
              "    <tr>\n",
              "      <th>0</th>\n",
              "      <td>TechnipFMC</td>\n",
              "      <td>FTI</td>\n",
              "      <td>29.855000</td>\n",
              "      <td>29.075001</td>\n",
              "      <td>29.075001</td>\n",
              "      <td>29.615000</td>\n",
              "      <td>1908400.0</td>\n",
              "      <td>2010-01-04</td>\n",
              "    </tr>\n",
              "    <tr>\n",
              "      <th>1</th>\n",
              "      <td>TechnipFMC</td>\n",
              "      <td>FTI</td>\n",
              "      <td>30.270000</td>\n",
              "      <td>29.555000</td>\n",
              "      <td>29.610001</td>\n",
              "      <td>30.125000</td>\n",
              "      <td>2206600.0</td>\n",
              "      <td>2010-01-05</td>\n",
              "    </tr>\n",
              "    <tr>\n",
              "      <th>2</th>\n",
              "      <td>TechnipFMC</td>\n",
              "      <td>FTI</td>\n",
              "      <td>30.305000</td>\n",
              "      <td>29.434999</td>\n",
              "      <td>30.040001</td>\n",
              "      <td>30.264999</td>\n",
              "      <td>2724200.0</td>\n",
              "      <td>2010-01-06</td>\n",
              "    </tr>\n",
              "    <tr>\n",
              "      <th>3</th>\n",
              "      <td>TechnipFMC</td>\n",
              "      <td>FTI</td>\n",
              "      <td>30.219999</td>\n",
              "      <td>29.715000</td>\n",
              "      <td>30.155001</td>\n",
              "      <td>29.915001</td>\n",
              "      <td>2581000.0</td>\n",
              "      <td>2010-01-07</td>\n",
              "    </tr>\n",
              "    <tr>\n",
              "      <th>4</th>\n",
              "      <td>TechnipFMC</td>\n",
              "      <td>FTI</td>\n",
              "      <td>30.500000</td>\n",
              "      <td>29.625000</td>\n",
              "      <td>29.830000</td>\n",
              "      <td>30.450001</td>\n",
              "      <td>3280400.0</td>\n",
              "      <td>2010-01-08</td>\n",
              "    </tr>\n",
              "    <tr>\n",
              "      <th>...</th>\n",
              "      <td>...</td>\n",
              "      <td>...</td>\n",
              "      <td>...</td>\n",
              "      <td>...</td>\n",
              "      <td>...</td>\n",
              "      <td>...</td>\n",
              "      <td>...</td>\n",
              "      <td>...</td>\n",
              "    </tr>\n",
              "    <tr>\n",
              "      <th>81730</th>\n",
              "      <td>LVMH</td>\n",
              "      <td>MC</td>\n",
              "      <td>53.889999</td>\n",
              "      <td>51.279999</td>\n",
              "      <td>53.689999</td>\n",
              "      <td>51.450001</td>\n",
              "      <td>404700.0</td>\n",
              "      <td>2021-01-26</td>\n",
              "    </tr>\n",
              "    <tr>\n",
              "      <th>81731</th>\n",
              "      <td>LVMH</td>\n",
              "      <td>MC</td>\n",
              "      <td>50.779999</td>\n",
              "      <td>48.759998</td>\n",
              "      <td>50.419998</td>\n",
              "      <td>49.369999</td>\n",
              "      <td>688200.0</td>\n",
              "      <td>2021-01-27</td>\n",
              "    </tr>\n",
              "    <tr>\n",
              "      <th>81732</th>\n",
              "      <td>LVMH</td>\n",
              "      <td>MC</td>\n",
              "      <td>51.820000</td>\n",
              "      <td>49.639999</td>\n",
              "      <td>49.930000</td>\n",
              "      <td>51.189999</td>\n",
              "      <td>480400.0</td>\n",
              "      <td>2021-01-28</td>\n",
              "    </tr>\n",
              "    <tr>\n",
              "      <th>81733</th>\n",
              "      <td>LVMH</td>\n",
              "      <td>MC</td>\n",
              "      <td>51.130001</td>\n",
              "      <td>48.990002</td>\n",
              "      <td>51.099998</td>\n",
              "      <td>49.709999</td>\n",
              "      <td>341000.0</td>\n",
              "      <td>2021-01-29</td>\n",
              "    </tr>\n",
              "    <tr>\n",
              "      <th>81734</th>\n",
              "      <td>LVMH</td>\n",
              "      <td>MC</td>\n",
              "      <td>51.290001</td>\n",
              "      <td>49.630001</td>\n",
              "      <td>49.790001</td>\n",
              "      <td>51.250000</td>\n",
              "      <td>348200.0</td>\n",
              "      <td>2021-02-01</td>\n",
              "    </tr>\n",
              "  </tbody>\n",
              "</table>\n",
              "<p>81735 rows × 8 columns</p>\n",
              "</div>"
            ],
            "text/plain": [
              "      CompanyName StockName       High  ...      Close     Volume        Date\n",
              "0      TechnipFMC       FTI  29.855000  ...  29.615000  1908400.0  2010-01-04\n",
              "1      TechnipFMC       FTI  30.270000  ...  30.125000  2206600.0  2010-01-05\n",
              "2      TechnipFMC       FTI  30.305000  ...  30.264999  2724200.0  2010-01-06\n",
              "3      TechnipFMC       FTI  30.219999  ...  29.915001  2581000.0  2010-01-07\n",
              "4      TechnipFMC       FTI  30.500000  ...  30.450001  3280400.0  2010-01-08\n",
              "...           ...       ...        ...  ...        ...        ...         ...\n",
              "81730        LVMH        MC  53.889999  ...  51.450001   404700.0  2021-01-26\n",
              "81731        LVMH        MC  50.779999  ...  49.369999   688200.0  2021-01-27\n",
              "81732        LVMH        MC  51.820000  ...  51.189999   480400.0  2021-01-28\n",
              "81733        LVMH        MC  51.130001  ...  49.709999   341000.0  2021-01-29\n",
              "81734        LVMH        MC  51.290001  ...  51.250000   348200.0  2021-02-01\n",
              "\n",
              "[81735 rows x 8 columns]"
            ]
          },
          "metadata": {},
          "execution_count": 33
        }
      ]
    },
    {
      "cell_type": "code",
      "metadata": {
        "id": "vVqsqVHIhEgv"
      },
      "source": [
        ""
      ],
      "execution_count": null,
      "outputs": []
    },
    {
      "cell_type": "markdown",
      "metadata": {
        "id": "vXjNJf9v8H2Q"
      },
      "source": [
        "# <font color = 'Orange'>Save the new Dataset(.csv) </font>"
      ]
    },
    {
      "cell_type": "code",
      "metadata": {
        "id": "_cSczPJg8HGo"
      },
      "source": [
        "#add your code\n",
        "Stocks.to_csv('/content/drive/My Drive/saveToNewFile.csv')"
      ],
      "execution_count": 35,
      "outputs": []
    },
    {
      "cell_type": "markdown",
      "metadata": {
        "id": "KSKgKX6D8Tip"
      },
      "source": [
        "Print the first rows of your final Dataset"
      ]
    },
    {
      "cell_type": "code",
      "metadata": {
        "id": "fh2KI6iF8R9c",
        "colab": {
          "base_uri": "https://localhost:8080/",
          "height": 206
        },
        "outputId": "7c154601-f742-4d74-bbc5-af57c4616ffe"
      },
      "source": [
        "#add your code\n",
        "Stocks.head()"
      ],
      "execution_count": 36,
      "outputs": [
        {
          "output_type": "execute_result",
          "data": {
            "text/html": [
              "<div>\n",
              "<style scoped>\n",
              "    .dataframe tbody tr th:only-of-type {\n",
              "        vertical-align: middle;\n",
              "    }\n",
              "\n",
              "    .dataframe tbody tr th {\n",
              "        vertical-align: top;\n",
              "    }\n",
              "\n",
              "    .dataframe thead th {\n",
              "        text-align: right;\n",
              "    }\n",
              "</style>\n",
              "<table border=\"1\" class=\"dataframe\">\n",
              "  <thead>\n",
              "    <tr style=\"text-align: right;\">\n",
              "      <th></th>\n",
              "      <th>CompanyName</th>\n",
              "      <th>StockName</th>\n",
              "      <th>High</th>\n",
              "      <th>Low</th>\n",
              "      <th>Open</th>\n",
              "      <th>Close</th>\n",
              "      <th>Volume</th>\n",
              "      <th>Date</th>\n",
              "    </tr>\n",
              "  </thead>\n",
              "  <tbody>\n",
              "    <tr>\n",
              "      <th>0</th>\n",
              "      <td>TechnipFMC</td>\n",
              "      <td>FTI</td>\n",
              "      <td>29.855000</td>\n",
              "      <td>29.075001</td>\n",
              "      <td>29.075001</td>\n",
              "      <td>29.615000</td>\n",
              "      <td>1908400.0</td>\n",
              "      <td>2010-01-04</td>\n",
              "    </tr>\n",
              "    <tr>\n",
              "      <th>1</th>\n",
              "      <td>TechnipFMC</td>\n",
              "      <td>FTI</td>\n",
              "      <td>30.270000</td>\n",
              "      <td>29.555000</td>\n",
              "      <td>29.610001</td>\n",
              "      <td>30.125000</td>\n",
              "      <td>2206600.0</td>\n",
              "      <td>2010-01-05</td>\n",
              "    </tr>\n",
              "    <tr>\n",
              "      <th>2</th>\n",
              "      <td>TechnipFMC</td>\n",
              "      <td>FTI</td>\n",
              "      <td>30.305000</td>\n",
              "      <td>29.434999</td>\n",
              "      <td>30.040001</td>\n",
              "      <td>30.264999</td>\n",
              "      <td>2724200.0</td>\n",
              "      <td>2010-01-06</td>\n",
              "    </tr>\n",
              "    <tr>\n",
              "      <th>3</th>\n",
              "      <td>TechnipFMC</td>\n",
              "      <td>FTI</td>\n",
              "      <td>30.219999</td>\n",
              "      <td>29.715000</td>\n",
              "      <td>30.155001</td>\n",
              "      <td>29.915001</td>\n",
              "      <td>2581000.0</td>\n",
              "      <td>2010-01-07</td>\n",
              "    </tr>\n",
              "    <tr>\n",
              "      <th>4</th>\n",
              "      <td>TechnipFMC</td>\n",
              "      <td>FTI</td>\n",
              "      <td>30.500000</td>\n",
              "      <td>29.625000</td>\n",
              "      <td>29.830000</td>\n",
              "      <td>30.450001</td>\n",
              "      <td>3280400.0</td>\n",
              "      <td>2010-01-08</td>\n",
              "    </tr>\n",
              "  </tbody>\n",
              "</table>\n",
              "</div>"
            ],
            "text/plain": [
              "  CompanyName StockName       High  ...      Close     Volume        Date\n",
              "0  TechnipFMC       FTI  29.855000  ...  29.615000  1908400.0  2010-01-04\n",
              "1  TechnipFMC       FTI  30.270000  ...  30.125000  2206600.0  2010-01-05\n",
              "2  TechnipFMC       FTI  30.305000  ...  30.264999  2724200.0  2010-01-06\n",
              "3  TechnipFMC       FTI  30.219999  ...  29.915001  2581000.0  2010-01-07\n",
              "4  TechnipFMC       FTI  30.500000  ...  30.450001  3280400.0  2010-01-08\n",
              "\n",
              "[5 rows x 8 columns]"
            ]
          },
          "metadata": {},
          "execution_count": 36
        }
      ]
    },
    {
      "cell_type": "code",
      "metadata": {
        "id": "x_9d8UgZg_CW"
      },
      "source": [
        ""
      ],
      "execution_count": null,
      "outputs": []
    }
  ]
}